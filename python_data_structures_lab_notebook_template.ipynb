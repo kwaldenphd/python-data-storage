{
  "nbformat": 4,
  "nbformat_minor": 0,
  "metadata": {
    "colab": {
      "provenance": [],
      "toc_visible": true,
      "authorship_tag": "ABX9TyNsaT5fo6Wkfh59UIzSek1z",
      "include_colab_link": true
    },
    "kernelspec": {
      "name": "python3",
      "display_name": "Python 3"
    },
    "language_info": {
      "name": "python"
    }
  },
  "cells": [
    {
      "cell_type": "markdown",
      "metadata": {
        "id": "view-in-github",
        "colab_type": "text"
      },
      "source": [
        "<a href=\"https://colab.research.google.com/github/kwaldenphd/python-data-structures/blob/main/python_data_structures_lab_notebook_template.ipynb\" target=\"_parent\"><img src=\"https://colab.research.google.com/assets/colab-badge.svg\" alt=\"Open In Colab\"/></a>"
      ]
    },
    {
      "cell_type": "markdown",
      "source": [
        "# Data Structures in Python"
      ],
      "metadata": {
        "id": "7MzhNm9Tt6d3"
      }
    },
    {
      "cell_type": "markdown",
      "metadata": {
        "id": "ff876fb9"
      },
      "source": [
        "Student Name: **Enter Your Name Here (Double click to edit)**\n",
        "<br>\n",
        "Net ID: **Enter Your NetID Here (Double click to edit)**\n",
        "<br>"
      ]
    },
    {
      "cell_type": "markdown",
      "source": [
        "## Lab Notebook Questions"
      ],
      "metadata": {
        "id": "tQARbhvayCrm"
      }
    },
    {
      "cell_type": "markdown",
      "source": [
        "### **Q1: Write a program that converts integer, float, or boolean values to a string, using the `str()` function.**"
      ],
      "metadata": {
        "id": "pgEKP1FtpExo"
      }
    },
    {
      "cell_type": "markdown",
      "metadata": {
        "id": "L0cFnREpis-5"
      },
      "source": [
        "**AnswerQ1**: Your answer here (double click to edit)"
      ]
    },
    {
      "cell_type": "code",
      "source": [
        "# your codes here (double click to edit)"
      ],
      "metadata": {
        "id": "3ljNdsyxpQRa"
      },
      "execution_count": null,
      "outputs": []
    },
    {
      "cell_type": "markdown",
      "source": [
        "### **Q2: Write a program that prompts the user to enter a 6-letter word, and then prints the first, third, and fifth letters of that word.**"
      ],
      "metadata": {
        "id": "FembQg4kp_M2"
      }
    },
    {
      "cell_type": "markdown",
      "metadata": {
        "id": "v2XYT06SpfJQ"
      },
      "source": [
        "**AnswerQ2**: Your answer here (double click to edit)"
      ]
    },
    {
      "cell_type": "code",
      "source": [
        "# your codes here (double click to edit)"
      ],
      "metadata": {
        "id": "tY_xjVyoiRLu"
      },
      "execution_count": null,
      "outputs": []
    },
    {
      "cell_type": "markdown",
      "source": [
        "### **Q3: Modify the program provided below to search for the character `q` or `u` in the string. Does it always return the index number you expect? What index is returned if you ask for the index of the letter u (i.e., what happens when the desired character appears more than once in the string)?**"
      ],
      "metadata": {
        "id": "3URjcSZDpbFu"
      }
    },
    {
      "cell_type": "markdown",
      "metadata": {
        "id": "mB-kFikxis_I"
      },
      "source": [
        "**AnswerQ3:** Your answer here (double click to edit)"
      ]
    },
    {
      "cell_type": "code",
      "source": [
        "# program you're modifying for Q8\n",
        "# assign string variable\n",
        "color = \"turquoise\"\n",
        "\n",
        "# get index number of t character\n",
        "index_number = color.index(\"t\")\n",
        "\n",
        "# show index number as part of print statement\n",
        "print (\"The index number for the letter t within the word \" + color + \" is \" + index_number)"
      ],
      "metadata": {
        "id": "A6V_hAk7hcFB"
      },
      "execution_count": null,
      "outputs": []
    },
    {
      "cell_type": "code",
      "source": [
        "# your codes here (double click to edit)"
      ],
      "metadata": {
        "id": "UEfw6psfpgsa"
      },
      "execution_count": null,
      "outputs": []
    },
    {
      "cell_type": "markdown",
      "source": [
        "### **Q4: Write a program that creates a list of numbers. Use the arguments and syntax presented in this section of the lab to include code in your program that answers the following questions:**\n",
        "- **What is the length of your list?**\n",
        "- **What is the number position for each of the items in your list?**\n",
        "- **How would you return the value of the first item?**\n",
        "- **How would you return the value of the last item?**\n",
        "\n",
        "**Answer to this question includes program + comments that document process and explain your code.**"
      ],
      "metadata": {
        "id": "NIornfjZpmFy"
      }
    },
    {
      "cell_type": "markdown",
      "metadata": {
        "id": "Cf3iN_D7is_N"
      },
      "source": [
        "**AnswerQ4:** Your answer here (double click to edit)"
      ]
    },
    {
      "cell_type": "code",
      "execution_count": null,
      "metadata": {
        "id": "r_wK6Djjd3TQ"
      },
      "outputs": [],
      "source": [
        "# your codes here (double click to edit)\n",
        "\n",
        "# create list of numbers\n",
        "\n",
        "# length of list\n",
        "\n",
        "# numer position for each list item\n",
        "\n",
        "# value of first item\n",
        "\n",
        "# value of last item"
      ]
    },
    {
      "cell_type": "markdown",
      "source": [
        "### **Q5: Modify your Q4 program (working with the same list), using arguments and syntax covered in this section of the lab to accomplish the following tasks:**\n",
        "- **Add a new item to your list**\n",
        "- **Delete an item from your list**\n",
        "- **Sort your list in-place**\n",
        "- **Generate a sorted version of your list**\n",
        "- **Reverse your list in-place**\n",
        "- **Determine the min and max values for your list**\n",
        "\n",
        "**Answer to this question includes program + comments that document process and explain your code.**"
      ],
      "metadata": {
        "id": "ymUHiLayptBD"
      }
    },
    {
      "cell_type": "markdown",
      "metadata": {
        "id": "3BAA-_Vyis_X"
      },
      "source": [
        "**AnswerQ5:** Your answer here (double click to edit)"
      ]
    },
    {
      "cell_type": "code",
      "execution_count": 1,
      "metadata": {
        "id": "9lT7urowd9w3"
      },
      "outputs": [],
      "source": [
        "# your codes here (double click to edit)\n",
        "\n",
        "# if needed: recreate list of numbers\n",
        "\n",
        "# add new item\n",
        "\n",
        "# delete item\n",
        "\n",
        "# sort in-place\n",
        "\n",
        "# generate sorted version\n",
        "\n",
        "# reverse in-place\n",
        "\n",
        "# max value\n",
        "\n",
        "# min value"
      ]
    },
    {
      "cell_type": "markdown",
      "source": [
        "### **Q6: Write a program that creates a list with the following values: `[[0, 1], [2, 3], [4, 5]]`. Use the arguments and syntax presented in this section of the lab to include code in your program that answers the following questions:**\n",
        "- **What is the second element?**\n",
        "- **How would you change 4 to 'four'?**\n",
        "- **How would you change 1 to 'one'?**\n",
        "- **How would you print out each sub-list (one sub-list per line)?**\n",
        "  * *HINT: Could a `for` loop be helpful for this task?*\n",
        "- **How would you print out each number (one number per line)?**\n",
        "  * *HINT: Could a `for` loop be helpful for this task?*\n",
        "\n",
        "**Answer to this question includes program + comments that document process and explain your code.**"
      ],
      "metadata": {
        "id": "HtUKT1xNqJQy"
      }
    },
    {
      "cell_type": "markdown",
      "metadata": {
        "id": "hcRpdIN_is_b"
      },
      "source": [
        "**AnswerQ6:** Your answer here (double click to edit)"
      ]
    },
    {
      "cell_type": "code",
      "execution_count": null,
      "metadata": {
        "id": "cBAd2bpPqUn2"
      },
      "outputs": [],
      "source": [
        "# your codes here (double click to edit)\n",
        "\n",
        "# create list with sublists\n",
        "numbers = [[0, 1], [2, 3], [4, 5]]\n",
        "\n",
        "# isolate second element\n",
        "\n",
        "# change 4 to 'four'\n",
        "\n",
        "# change 1 to 'one'\n",
        "\n",
        "# print out each sublist\n",
        "\n",
        "# print out each number"
      ]
    },
    {
      "cell_type": "markdown",
      "source": [
        "### **Q7: Modify your Q6 program (working with the same list), using arguments and syntax covered in this section of the lab to accomplish the following tasks:**\n",
        "- **Add a new item to your list**\n",
        "- **Delete an item from your list**\n",
        "- **Sort your list in-place**\n",
        "- **Generate a sorted version of your list**\n",
        "- **Reverse your list in-place**\n",
        "- **Determine the min and max values for your list**\n",
        "\n",
        "**Answer to this question includes program + comments that document process and explain your code.**"
      ],
      "metadata": {
        "id": "vu71MpmSivh5"
      }
    },
    {
      "cell_type": "markdown",
      "metadata": {
        "id": "tihNYy4uis_c"
      },
      "source": [
        "**AnswerQ7:** Your answer here (double click to edit)"
      ]
    },
    {
      "cell_type": "code",
      "execution_count": null,
      "metadata": {
        "id": "QIfSeDcOi2Hb"
      },
      "outputs": [],
      "source": [
        "# your codes here (double click to edit)\n",
        "\n",
        "# if needed: recreate list of numbers\n",
        "\n",
        "# add new item\n",
        "\n",
        "# delete item\n",
        "\n",
        "# sort in-place\n",
        "\n",
        "# generate sorted version\n",
        "\n",
        "# reverse in-place\n",
        "\n",
        "# max value\n",
        "\n",
        "# min value"
      ]
    },
    {
      "cell_type": "markdown",
      "source": [
        "### **Q8: Write a program that creates a dictionary on a topic of your choosing. Include at least 5 key-value pairs. Use arguments and syntax covered in this section of the lab to accomplish the following tasks:**\n",
        "- **Add a new element to your dictionary**\n",
        "- **Update or modify an element in your dictionary**\n",
        "- **Print a list of all the keys in your dictionary**\n",
        "- **Print a list of all the values in your dictionary**\n",
        "\n",
        "**Answer to this question includes program + comments that document process and explain your code.**"
      ],
      "metadata": {
        "id": "5dvuisBPq3so"
      }
    },
    {
      "cell_type": "markdown",
      "metadata": {
        "id": "SEFRnAoNis_f"
      },
      "source": [
        "**AnswerQ8:** Your answer here (double click to edit)"
      ]
    },
    {
      "cell_type": "code",
      "execution_count": null,
      "metadata": {
        "id": "n3vQgJOgq66N"
      },
      "outputs": [],
      "source": [
        "# your codes here (double click to edit)\n",
        "\n",
        "# create dictionary\n",
        "\n",
        "# update/modify element\n",
        "\n",
        "# show keys\n",
        "\n",
        "# show values"
      ]
    },
    {
      "cell_type": "markdown",
      "source": [
        "### **Q9: Write a program that creates a tuple with at least 4 values. Use arguments and syntax covered in this section of the lab to accomplish the following tasks:**\n",
        "- **Count the number of times a specific value appears**\n",
        "- **Return the index for a specific value**\n",
        "- **Access a value using its index**\n",
        "\n",
        "**Answer to this question includes program + comments that document process and explain your code.**"
      ],
      "metadata": {
        "id": "ACOEEc_spzdB"
      }
    },
    {
      "cell_type": "markdown",
      "metadata": {
        "id": "yNYGMUIHenNC"
      },
      "source": [
        "**AnswerQ9:** Your answer here (double click to edit)"
      ]
    },
    {
      "cell_type": "code",
      "execution_count": null,
      "metadata": {
        "id": "mXYePnBLec-U"
      },
      "outputs": [],
      "source": [
        "# your codes here (double click to edit)\n",
        "\n",
        "# create tuple\n",
        "\n",
        "# count value occurrences  \n",
        "\n",
        "# return index\n",
        "\n",
        "# access value using index"
      ]
    },
    {
      "cell_type": "markdown",
      "source": [
        "### **Q10: Write a program that creates the set `s` with the following values: `[1, 3, 5, 7, 9]`. Use arguments and syntax covered in this section of the lab to accomplish the following tasks:**\n",
        "- **Test to see if the value `11` is a member of the set**\n",
        "- **Test to see if the value `7` is a member of the set**\n",
        "- **Add a value to the set**\n",
        "- **Remove a value from the set**\n",
        "\n",
        "**Answer to this question includes program + comments that document process and explain your code**"
      ],
      "metadata": {
        "id": "lOr3Pz7RjT3L"
      }
    },
    {
      "cell_type": "markdown",
      "metadata": {
        "id": "YA2gDTrmjUuF"
      },
      "source": [
        "**AnswerQ10:** Your answer here (double click to edit)"
      ]
    },
    {
      "cell_type": "code",
      "execution_count": null,
      "metadata": {
        "id": "syCSgsNgjVny"
      },
      "outputs": [],
      "source": [
        "# your codes here (double click to edit)\n",
        "\n",
        "# create set\n",
        "\n",
        "# test for membership, 11\n",
        "\n",
        "# test for membership, 7\n",
        "\n",
        "# add a value\n",
        "\n",
        "# remove a value"
      ]
    },
    {
      "cell_type": "markdown",
      "source": [
        "### **Q11: Write a program that asks a user to input their current or former Notre Dame residence hall and returns or outputs that hall's mascot ([link to table with list of halls and mascots](https://en.wikipedia.org/wiki/University_of_Notre_Dame_residence_halls#List))**.\n",
        "\n",
        "Sample output for this program:\n",
        "\n",
        "```\n",
        "Howard Hall's mascot is ducks!\n",
        "```\n",
        "\n",
        "**Answer to this question includes program + comments that document process and explain your code, as well as a brief explanation for the data structure/approach you chose for this program.**"
      ],
      "metadata": {
        "id": "ULcthqxgjxjQ"
      }
    },
    {
      "cell_type": "markdown",
      "metadata": {
        "id": "B8bpFe-IjyvK"
      },
      "source": [
        "**AnswerQ11:** Your answer here (double click to edit)"
      ]
    },
    {
      "cell_type": "code",
      "execution_count": null,
      "metadata": {
        "id": "8xpLVW4pjzzy"
      },
      "outputs": [],
      "source": [
        "# your codes here (double click to edit)"
      ]
    },
    {
      "cell_type": "markdown",
      "source": [
        "### **Q12: In a previous lab, you wrote a program that asks the user to enter a color value and returns an output message indicating whether the color is a primary, secondary, or tertiary color (using a combination of the `input()` function, comparison operators, `if-then-else` logic, and Boolean logical operators).**\n",
        "\n",
        "Primary colors:\n",
        "- Red\n",
        "- Yellow\n",
        "- Blue\n",
        "\n",
        "Secondary colors:\n",
        "- Green\n",
        "- Orange\n",
        "- Purple\n",
        "\n",
        "Tertiary colors:\n",
        "- Amber\n",
        "- Vermillion\n",
        "- Magenta\n",
        "- Violet\n",
        "- Teal\n",
        "- Chartreuse\n",
        "\n",
        "**Let's revisit and rewrite this program- how could you approach this task using the data structures and syntax presented in this lab?** \n",
        "\n",
        "**Answer to this question includes program + comments that document process and explain your code, as well as a brief explanation for the data structure/approach you chose for this program.**"
      ],
      "metadata": {
        "id": "u1Yk12EZkDny"
      }
    },
    {
      "cell_type": "markdown",
      "metadata": {
        "id": "9qrbb7pdkMJ7"
      },
      "source": [
        "**AnswerQ12:** Your answer here (double click to edit)"
      ]
    },
    {
      "cell_type": "code",
      "execution_count": null,
      "metadata": {
        "id": "R6wkWPjaj0Ie"
      },
      "outputs": [],
      "source": [
        "# your codes here (double click to edit)"
      ]
    },
    {
      "cell_type": "markdown",
      "source": [
        "### **Q13: Describe the five data structures covered in this lab (strings, lists, dictionaries, tuples, sets) in your own words. How are they similar? What are key differences? What kinds of tasks/contexts/problems would benefit from specific structures?**\n",
        "- NOTE: You are welcome to include code as part of this answer, but a code component is not required."
      ],
      "metadata": {
        "id": "0lt-mc_tjyIL"
      }
    },
    {
      "cell_type": "markdown",
      "metadata": {
        "id": "WcwZrIiGjzBZ"
      },
      "source": [
        "**AnswerQ13:** Your answer here (double click to edit)"
      ]
    },
    {
      "cell_type": "code",
      "execution_count": null,
      "metadata": {
        "id": "rjbvPVfBkNAr"
      },
      "outputs": [],
      "source": [
        "# your codes here (double click to edit)"
      ]
    }
  ]
}